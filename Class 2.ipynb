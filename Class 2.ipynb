{
 "cells": [
  {
   "cell_type": "code",
   "execution_count": 2,
   "id": "8f300d32",
   "metadata": {},
   "outputs": [],
   "source": [
    "class Stack:\n",
    "    def __init__(self):\n",
    "        self.items = []\n",
    "\n",
    "    def push(self, element):\n",
    "        self.items.append(element)\n",
    "\n",
    "    def pop(self):\n",
    "        return self.items.pop()\n",
    "\n",
    "    def get_size(self):\n",
    "        return len(self.items)\n",
    "\n",
    "    def is_empty(self):\n",
    "        return self.items == []\n"
   ]
  },
  {
   "cell_type": "code",
   "execution_count": 3,
   "id": "82f31c37",
   "metadata": {},
   "outputs": [
    {
     "name": "stdout",
     "output_type": "stream",
     "text": [
      "Pushing 1\n",
      "Pushing 2\n",
      "Pushing 3\n",
      "Pushing 4\n",
      "Pushing 5\n",
      "Got 5 from pop result\n",
      "Got 4 from pop result\n",
      "Got 3 from pop result\n",
      "Got 2 from pop result\n",
      "Got 1 from pop result\n"
     ]
    }
   ],
   "source": [
    "numbers = [1, 2, 3, 4, 5]\n",
    "\n",
    "def print_inverted_list(my_collection):\n",
    "    stack = Stack()\n",
    "    for number in numbers:\n",
    "        print(\"Pushing %s\" % number)\n",
    "        stack.push(number)\n",
    "    while not stack.is_empty():\n",
    "        number = stack.pop()\n",
    "        print(\"Got %s from pop result\" % number)\n",
    "\n",
    "print_inverted_list(numbers)"
   ]
  },
  {
   "cell_type": "markdown",
   "id": "9126c860",
   "metadata": {},
   "source": [
    "# Mini Challenge 1\n",
    "### Use a stack to invert a string.\n",
    "##### Given \"mystring\" as a parameter, invert it.\n",
    "```\n",
    "Examples:\n",
    "Rafael -> leafaR\n",
    "Colin -> niloC\n",
    "```\n",
    "\n",
    "`Suggestion: reverse_string(mystring)`"
   ]
  },
  {
   "cell_type": "code",
   "execution_count": 4,
   "id": "607f94ce",
   "metadata": {},
   "outputs": [],
   "source": [
    "class Queue:\n",
    "    def __init__(self):\n",
    "        self.items = []\n",
    "\n",
    "    def enqueue(self, element):\n",
    "        self.items.append(element)\n",
    "\n",
    "    def dequeue(self):\n",
    "        self.items.pop(0)\n",
    "\n",
    "    def get_size(self):\n",
    "        return len(self.items)\n",
    "\n",
    "    def is_empty(self):\n",
    "        return self.items == []\n"
   ]
  },
  {
   "cell_type": "markdown",
   "id": "7cf7b0b2",
   "metadata": {},
   "source": [
    "# Mini challenge 2\n",
    "### Create a queue from 2 stacks.\n",
    "##### Create a class named Queue2Stacks that consists of only 2 stacks.\n",
    "> The Queue2Stacks class should maintain the ordering principle of a Queue while being made up of two stacks (as its only class attributes\n",
    "\n",
    "```Example (of ordering principle):\n",
    "\n",
    "class Queue2Stacks:\n",
    "    def __init__(self):\n",
    "        self.instack = []\n",
    "        self.outstack = []\n",
    "\n",
    "\n",
    "myqueue = Queue2Stacks()\n",
    "myqueue.enqueue(\"A\")\n",
    "myqueue.enqueue(\"B\")\n",
    "myqueue.enqueue(\"C\")\n",
    "\n",
    "assert myqueue.dequeue() == \"A\"\n",
    "assert myqueue.dequeue() == \"B\"\n",
    "assert myqueue.dequeue() == \"C\"\n",
    "\n",
    "```\n",
    "\n",
    "\n"
   ]
  },
  {
   "cell_type": "code",
   "execution_count": 5,
   "id": "33ac9888",
   "metadata": {},
   "outputs": [],
   "source": [
    "class Queue2Stacks:\n",
    "    def __init__(self):\n",
    "        self.stack1 = []\n",
    "        self.stack2 = []\n",
    "\n",
    "    def enqueue(self, item):\n",
    "        self.stack1.append(item)\n",
    "\n",
    "    def dequeue(self):\n",
    "        if not self.stack2:   # same as if self.stack2 == []\n",
    "            while(self.stack1):\n",
    "                item = self.stack1.pop()\n",
    "                self.stack2.append(item)\n",
    "        return self.stack2.pop()\n"
   ]
  },
  {
   "cell_type": "code",
   "execution_count": 6,
   "id": "08e58fa2",
   "metadata": {},
   "outputs": [
    {
     "name": "stdout",
     "output_type": "stream",
     "text": [
      "0\n",
      "1\n",
      "2\n",
      "3\n",
      "4\n"
     ]
    }
   ],
   "source": [
    "myqueue = Queue2Stacks()\n",
    "for i in range(5):\n",
    "    myqueue.enqueue(i)\n",
    "\n",
    "for _ in range(5):\n",
    "    item = myqueue.dequeue()\n",
    "    print(item)\n"
   ]
  },
  {
   "cell_type": "code",
   "execution_count": null,
   "id": "81b4cd36",
   "metadata": {},
   "outputs": [],
   "source": []
  }
 ],
 "metadata": {
  "kernelspec": {
   "display_name": "Python 3 (ipykernel)",
   "language": "python",
   "name": "python3"
  },
  "language_info": {
   "codemirror_mode": {
    "name": "ipython",
    "version": 3
   },
   "file_extension": ".py",
   "mimetype": "text/x-python",
   "name": "python",
   "nbconvert_exporter": "python",
   "pygments_lexer": "ipython3",
   "version": "3.9.7"
  }
 },
 "nbformat": 4,
 "nbformat_minor": 5
}
